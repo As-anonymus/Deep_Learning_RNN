{
 "cells": [
  {
   "cell_type": "code",
   "execution_count": 1,
   "id": "b431847c",
   "metadata": {},
   "outputs": [],
   "source": [
    "import pandas as pd\n",
    "import numpy as np\n",
    "import matplotlib.pyplot as plt\n",
    "import seaborn as sns"
   ]
  },
  {
   "cell_type": "code",
   "execution_count": 5,
   "id": "e6d40b5a",
   "metadata": {},
   "outputs": [],
   "source": [
    "df = pd.read_csv(r\"C:\\Users\\Aditya Singh\\Downloads\\MRTSSM448USN.csv\",parse_dates=True,index_col='DATE')"
   ]
  },
  {
   "cell_type": "code",
   "execution_count": 6,
   "id": "6aba0d1c",
   "metadata": {},
   "outputs": [
    {
     "name": "stdout",
     "output_type": "stream",
     "text": [
      "<class 'pandas.core.frame.DataFrame'>\n",
      "DatetimeIndex: 361 entries, 1992-01-01 to 2022-01-01\n",
      "Data columns (total 1 columns):\n",
      " #   Column        Non-Null Count  Dtype\n",
      "---  ------        --------------  -----\n",
      " 0   MRTSSM448USN  361 non-null    int64\n",
      "dtypes: int64(1)\n",
      "memory usage: 5.6 KB\n"
     ]
    }
   ],
   "source": [
    "df.info()"
   ]
  },
  {
   "cell_type": "code",
   "execution_count": 8,
   "id": "b65571ea",
   "metadata": {},
   "outputs": [],
   "source": [
    "df.columns = ['Sales']"
   ]
  },
  {
   "cell_type": "code",
   "execution_count": 9,
   "id": "00dfdfee",
   "metadata": {},
   "outputs": [
    {
     "data": {
      "text/plain": [
       "<AxesSubplot:xlabel='DATE'>"
      ]
     },
     "execution_count": 9,
     "metadata": {},
     "output_type": "execute_result"
    },
    {
     "data": {
      "image/png": "[encoded data removed]",
      "text/plain": [
       "<Figure size 432x288 with 1 Axes>"
      ]
     },
     "metadata": {
      "needs_background": "light"
     },
     "output_type": "display_data"
    }
   ],
   "source": [
    "df.plot()"
   ]
  },
  {
   "cell_type": "code",
   "execution_count": 10,
   "id": "e18f7d9d",
   "metadata": {},
   "outputs": [
    {
     "data": {
      "text/plain": [
       "361"
      ]
     },
     "execution_count": 10,
     "metadata": {},
     "output_type": "execute_result"
    }
   ],
   "source": [
    "len(df)"
   ]
  },
  {
   "cell_type": "code",
   "execution_count": 11,
   "id": "1a1144a9",
   "metadata": {},
   "outputs": [
    {
     "data": {
      "text/plain": [
       "343"
      ]
     },
     "execution_count": 11,
     "metadata": {},
     "output_type": "execute_result"
    }
   ],
   "source": [
    "len(df)-18"
   ]
  },
  {
   "cell_type": "code",
   "execution_count": 12,
   "id": "6235aa8e",
   "metadata": {},
   "outputs": [],
   "source": [
    "test_size = 18\n",
    "test_ind = len(df) - test_size"
   ]
  },
  {
   "cell_type": "code",
   "execution_count": 13,
   "id": "8db44ba8",
   "metadata": {},
   "outputs": [],
   "source": [
    "train = df.iloc[:test_ind]\n",
    "test = df.iloc[test_ind:]"
   ]
  },
  {
   "cell_type": "code",
   "execution_count": 14,
   "id": "bf26a5a3",
   "metadata": {},
   "outputs": [
    {
     "data": {
      "text/html": [
       "<div>\n",
       "<style scoped>\n",
       "    .dataframe tbody tr th:only-of-type {\n",
       "        vertical-align: middle;\n",
       "    }\n",
       "\n",
       "    .dataframe tbody tr th {\n",
       "        vertical-align: top;\n",
       "    }\n",
       "\n",
       "    .dataframe thead th {\n",
       "        text-align: right;\n",
       "    }\n",
       "</style>\n",
       "<table border=\"1\" class=\"dataframe\">\n",
       "  <thead>\n",
       "    <tr style=\"text-align: right;\">\n",
       "      <th></th>\n",
       "      <th>Sales</th>\n",
       "    </tr>\n",
       "    <tr>\n",
       "      <th>DATE</th>\n",
       "      <th></th>\n",
       "    </tr>\n",
       "  </thead>\n",
       "  <tbody>\n",
       "    <tr>\n",
       "      <th>1992-01-01</th>\n",
       "      <td>6938</td>\n",
       "    </tr>\n",
       "    <tr>\n",
       "      <th>1992-02-01</th>\n",
       "      <td>7524</td>\n",
       "    </tr>\n",
       "    <tr>\n",
       "      <th>1992-03-01</th>\n",
       "      <td>8475</td>\n",
       "    </tr>\n",
       "    <tr>\n",
       "      <th>1992-04-01</th>\n",
       "      <td>9401</td>\n",
       "    </tr>\n",
       "    <tr>\n",
       "      <th>1992-05-01</th>\n",
       "      <td>9558</td>\n",
       "    </tr>\n",
       "    <tr>\n",
       "      <th>...</th>\n",
       "      <td>...</td>\n",
       "    </tr>\n",
       "    <tr>\n",
       "      <th>2020-03-01</th>\n",
       "      <td>10969</td>\n",
       "    </tr>\n",
       "    <tr>\n",
       "      <th>2020-04-01</th>\n",
       "      <td>2744</td>\n",
       "    </tr>\n",
       "    <tr>\n",
       "      <th>2020-05-01</th>\n",
       "      <td>8787</td>\n",
       "    </tr>\n",
       "    <tr>\n",
       "      <th>2020-06-01</th>\n",
       "      <td>16442</td>\n",
       "    </tr>\n",
       "    <tr>\n",
       "      <th>2020-07-01</th>\n",
       "      <td>17779</td>\n",
       "    </tr>\n",
       "  </tbody>\n",
       "</table>\n",
       "<p>343 rows × 1 columns</p>\n",
       "</div>"
      ],
      "text/plain": [
       "            Sales\n",
       "DATE             \n",
       "1992-01-01   6938\n",
       "1992-02-01   7524\n",
       "1992-03-01   8475\n",
       "1992-04-01   9401\n",
       "1992-05-01   9558\n",
       "...           ...\n",
       "2020-03-01  10969\n",
       "2020-04-01   2744\n",
       "2020-05-01   8787\n",
       "2020-06-01  16442\n",
       "2020-07-01  17779\n",
       "\n",
       "[343 rows x 1 columns]"
      ]
     },
     "execution_count": 14,
     "metadata": {},
     "output_type": "execute_result"
    }
   ],
   "source": [
    "train"
   ]
  },
  {
   "cell_type": "code",
   "execution_count": 15,
   "id": "50d36520",
   "metadata": {},
   "outputs": [
    {
     "data": {
      "text/html": [
       "<div>\n",
       "<style scoped>\n",
       "    .dataframe tbody tr th:only-of-type {\n",
       "        vertical-align: middle;\n",
       "    }\n",
       "\n",
       "    .dataframe tbody tr th {\n",
       "        vertical-align: top;\n",
       "    }\n",
       "\n",
       "    .dataframe thead th {\n",
       "        text-align: right;\n",
       "    }\n",
       "</style>\n",
       "<table border=\"1\" class=\"dataframe\">\n",
       "  <thead>\n",
       "    <tr style=\"text-align: right;\">\n",
       "      <th></th>\n",
       "      <th>Sales</th>\n",
       "    </tr>\n",
       "    <tr>\n",
       "      <th>DATE</th>\n",
       "      <th></th>\n",
       "    </tr>\n",
       "  </thead>\n",
       "  <tbody>\n",
       "    <tr>\n",
       "      <th>2020-08-01</th>\n",
       "      <td>18968</td>\n",
       "    </tr>\n",
       "    <tr>\n",
       "      <th>2020-09-01</th>\n",
       "      <td>18790</td>\n",
       "    </tr>\n",
       "    <tr>\n",
       "      <th>2020-10-01</th>\n",
       "      <td>20088</td>\n",
       "    </tr>\n",
       "    <tr>\n",
       "      <th>2020-11-01</th>\n",
       "      <td>21287</td>\n",
       "    </tr>\n",
       "    <tr>\n",
       "      <th>2020-12-01</th>\n",
       "      <td>32237</td>\n",
       "    </tr>\n",
       "    <tr>\n",
       "      <th>2021-01-01</th>\n",
       "      <td>15740</td>\n",
       "    </tr>\n",
       "    <tr>\n",
       "      <th>2021-02-01</th>\n",
       "      <td>16568</td>\n",
       "    </tr>\n",
       "    <tr>\n",
       "      <th>2021-03-01</th>\n",
       "      <td>24171</td>\n",
       "    </tr>\n",
       "    <tr>\n",
       "      <th>2021-04-01</th>\n",
       "      <td>23599</td>\n",
       "    </tr>\n",
       "    <tr>\n",
       "      <th>2021-05-01</th>\n",
       "      <td>26503</td>\n",
       "    </tr>\n",
       "    <tr>\n",
       "      <th>2021-06-01</th>\n",
       "      <td>25301</td>\n",
       "    </tr>\n",
       "    <tr>\n",
       "      <th>2021-07-01</th>\n",
       "      <td>25874</td>\n",
       "    </tr>\n",
       "    <tr>\n",
       "      <th>2021-08-01</th>\n",
       "      <td>25745</td>\n",
       "    </tr>\n",
       "    <tr>\n",
       "      <th>2021-09-01</th>\n",
       "      <td>23306</td>\n",
       "    </tr>\n",
       "    <tr>\n",
       "      <th>2021-10-01</th>\n",
       "      <td>25080</td>\n",
       "    </tr>\n",
       "    <tr>\n",
       "      <th>2021-11-01</th>\n",
       "      <td>29679</td>\n",
       "    </tr>\n",
       "    <tr>\n",
       "      <th>2021-12-01</th>\n",
       "      <td>40977</td>\n",
       "    </tr>\n",
       "    <tr>\n",
       "      <th>2022-01-01</th>\n",
       "      <td>18936</td>\n",
       "    </tr>\n",
       "  </tbody>\n",
       "</table>\n",
       "</div>"
      ],
      "text/plain": [
       "            Sales\n",
       "DATE             \n",
       "2020-08-01  18968\n",
       "2020-09-01  18790\n",
       "2020-10-01  20088\n",
       "2020-11-01  21287\n",
       "2020-12-01  32237\n",
       "2021-01-01  15740\n",
       "2021-02-01  16568\n",
       "2021-03-01  24171\n",
       "2021-04-01  23599\n",
       "2021-05-01  26503\n",
       "2021-06-01  25301\n",
       "2021-07-01  25874\n",
       "2021-08-01  25745\n",
       "2021-09-01  23306\n",
       "2021-10-01  25080\n",
       "2021-11-01  29679\n",
       "2021-12-01  40977\n",
       "2022-01-01  18936"
      ]
     },
     "execution_count": 15,
     "metadata": {},
     "output_type": "execute_result"
    }
   ],
   "source": [
    "test"
   ]
  },
  {
   "cell_type": "code",
   "execution_count": 16,
   "id": "9d211e9f",
   "metadata": {},
   "outputs": [],
   "source": [
    "from sklearn.preprocessing import MinMaxScaler"
   ]
  },
  {
   "cell_type": "code",
   "execution_count": 17,
   "id": "2573f5ad",
   "metadata": {},
   "outputs": [],
   "source": [
    "scalar = MinMaxScaler()"
   ]
  },
  {
   "cell_type": "code",
   "execution_count": 18,
   "id": "2c1912e5",
   "metadata": {},
   "outputs": [
    {
     "data": {
      "text/plain": [
       "MinMaxScaler()"
      ]
     },
     "execution_count": 18,
     "metadata": {},
     "output_type": "execute_result"
    }
   ],
   "source": [
    "scalar.fit(train)"
   ]
  },
  {
   "cell_type": "code",
   "execution_count": 19,
   "id": "326fe780",
   "metadata": {},
   "outputs": [],
   "source": [
    "scaled_train = scalar.transform(train\n",
    "                               )"
   ]
  },
  {
   "cell_type": "code",
   "execution_count": 20,
   "id": "df8f570b",
   "metadata": {},
   "outputs": [],
   "source": [
    "scaled_test = scalar.transform(test\n",
    "                               )"
   ]
  },
  {
   "cell_type": "code",
   "execution_count": 21,
   "id": "70dd7d44",
   "metadata": {},
   "outputs": [],
   "source": [
    "from tensorflow.keras.preprocessing.sequence import TimeseriesGenerator"
   ]
  },
  {
   "cell_type": "code",
   "execution_count": 22,
   "id": "ca762214",
   "metadata": {},
   "outputs": [
    {
     "data": {
      "text/plain": [
       "18"
      ]
     },
     "execution_count": 22,
     "metadata": {},
     "output_type": "execute_result"
    }
   ],
   "source": [
    "len(test)"
   ]
  },
  {
   "cell_type": "code",
   "execution_count": 23,
   "id": "d698e3ac",
   "metadata": {},
   "outputs": [],
   "source": [
    "length = 12\n",
    "generator = TimeseriesGenerator(scaled_train,scaled_train,length=length,batch_size=1)"
   ]
  },
  {
   "cell_type": "code",
   "execution_count": 24,
   "id": "b08c2090",
   "metadata": {},
   "outputs": [],
   "source": [
    "X,y = generator[0]"
   ]
  },
  {
   "cell_type": "code",
   "execution_count": 28,
   "id": "25d3aece",
   "metadata": {},
   "outputs": [
    {
     "data": {
      "text/plain": [
       "12"
      ]
     },
     "execution_count": 28,
     "metadata": {},
     "output_type": "execute_result"
    }
   ],
   "source": [
    "len(X[0])"
   ]
  },
  {
   "cell_type": "code",
   "execution_count": 26,
   "id": "8f54e1b0",
   "metadata": {},
   "outputs": [
    {
     "data": {
      "text/plain": [
       "array([[0.14679295]])"
      ]
     },
     "execution_count": 26,
     "metadata": {},
     "output_type": "execute_result"
    }
   ],
   "source": [
    "y"
   ]
  },
  {
   "cell_type": "code",
   "execution_count": 27,
   "id": "dec00df1",
   "metadata": {},
   "outputs": [
    {
     "data": {
      "text/plain": [
       "array([[0.12939253],\n",
       "       [0.14747169],\n",
       "       [0.17681177],\n",
       "       [0.20538056],\n",
       "       [0.21022429],\n",
       "       [0.19862401],\n",
       "       [0.19618672],\n",
       "       [0.23968778],\n",
       "       [0.21068707],\n",
       "       [0.23169716],\n",
       "       [0.26048191],\n",
       "       [0.48286181],\n",
       "       [0.14679295],\n",
       "       [0.14747169],\n",
       "       [0.18578965],\n",
       "       [0.2197575 ],\n",
       "       [0.22580446],\n",
       "       [0.21259988],\n",
       "       [0.21750532],\n",
       "       [0.24323574],\n",
       "       [0.22426187],\n",
       "       [0.23453553],\n",
       "       [0.27816   ],\n",
       "       [0.49693024],\n",
       "       [0.13994385],\n",
       "       [0.15913368],\n",
       "       [0.2214235 ],\n",
       "       [0.21981921],\n",
       "       [0.22413846],\n",
       "       [0.22055965],\n",
       "       [0.21568506],\n",
       "       [0.25955635],\n",
       "       [0.23055564],\n",
       "       [0.24638262],\n",
       "       [0.29648598],\n",
       "       [0.53287261],\n",
       "       [0.14728658],\n",
       "       [0.16095394],\n",
       "       [0.21815321],\n",
       "       [0.2290439 ],\n",
       "       [0.24298892],\n",
       "       [0.23314719],\n",
       "       [0.2171968 ],\n",
       "       [0.2628575 ],\n",
       "       [0.24576559],\n",
       "       [0.23740475],\n",
       "       [0.30873415],\n",
       "       [0.53244069],\n",
       "       [0.15240798],\n",
       "       [0.19273131],\n",
       "       [0.23462808],\n",
       "       [0.24144633],\n",
       "       [0.2672076 ],\n",
       "       [0.2409527 ],\n",
       "       [0.23009286],\n",
       "       [0.28969858],\n",
       "       [0.24308148],\n",
       "       [0.26242557],\n",
       "       [0.31255978],\n",
       "       [0.53065128],\n",
       "       [0.16814241],\n",
       "       [0.18791843],\n",
       "       [0.24977632],\n",
       "       [0.22790238],\n",
       "       [0.27029278],\n",
       "       [0.24403789],\n",
       "       [0.24650603],\n",
       "       [0.29978712],\n",
       "       [0.25292321],\n",
       "       [0.27430352],\n",
       "       [0.3239441 ],\n",
       "       [0.56687132],\n",
       "       [0.18683861],\n",
       "       [0.20840404],\n",
       "       [0.25048592],\n",
       "       [0.28016537],\n",
       "       [0.29293802],\n",
       "       [0.26862679],\n",
       "       [0.27424182],\n",
       "       [0.31552155],\n",
       "       [0.2613149 ],\n",
       "       [0.29741153],\n",
       "       [0.34276371],\n",
       "       [0.60697868],\n",
       "       [0.20032086],\n",
       "       [0.22913646],\n",
       "       [0.28806343],\n",
       "       [0.29747324],\n",
       "       [0.32156851],\n",
       "       [0.29420294],\n",
       "       [0.29978712],\n",
       "       [0.33906149],\n",
       "       [0.29657853],\n",
       "       [0.31481196],\n",
       "       [0.36710579],\n",
       "       [0.66460988],\n",
       "       [0.20679974],\n",
       "       [0.25995742],\n",
       "       [0.31151081],\n",
       "       [0.32024188],\n",
       "       [0.33909234],\n",
       "       [0.31496622],\n",
       "       [0.30099034],\n",
       "       [0.36608768],\n",
       "       [0.32798568],\n",
       "       [0.32780057],\n",
       "       [0.39894487],\n",
       "       [0.6827816 ],\n",
       "       [0.22571191],\n",
       "       [0.26859593],\n",
       "       [0.31848332],\n",
       "       [0.32758461],\n",
       "       [0.34069663],\n",
       "       [0.31441088],\n",
       "       [0.30407553],\n",
       "       [0.37250486],\n",
       "       [0.28877302],\n",
       "       [0.32314195],\n",
       "       [0.38897973],\n",
       "       [0.67226113],\n",
       "       [0.23447382],\n",
       "       [0.27723444],\n",
       "       [0.34655848],\n",
       "       [0.32243236],\n",
       "       [0.35189584],\n",
       "       [0.32289513],\n",
       "       [0.31249807],\n",
       "       [0.38160615],\n",
       "       [0.29929349],\n",
       "       [0.34745318],\n",
       "       [0.4062259 ],\n",
       "       [0.69743621],\n",
       "       [0.24866566],\n",
       "       [0.27513652],\n",
       "       [0.33036127],\n",
       "       [0.33773486],\n",
       "       [0.3697899 ],\n",
       "       [0.33171875],\n",
       "       [0.34276371],\n",
       "       [0.39422454],\n",
       "       [0.33390923],\n",
       "       [0.36581001],\n",
       "       [0.42609447],\n",
       "       [0.74093728],\n",
       "       [0.27908555],\n",
       "       [0.32702928],\n",
       "       [0.37071545],\n",
       "       [0.3799093 ],\n",
       "       [0.38981273],\n",
       "       [0.35457995],\n",
       "       [0.36784623],\n",
       "       [0.39626076],\n",
       "       [0.35417888],\n",
       "       [0.39570543],\n",
       "       [0.44691945],\n",
       "       [0.79171937],\n",
       "       [0.28698362],\n",
       "       [0.34350415],\n",
       "       [0.40054916],\n",
       "       [0.39996298],\n",
       "       [0.40863234],\n",
       "       [0.39536606],\n",
       "       [0.38484559],\n",
       "       [0.43047543],\n",
       "       [0.37688582],\n",
       "       [0.42467528],\n",
       "       [0.48307778],\n",
       "       [0.84941227],\n",
       "       [0.31311511],\n",
       "       [0.36189183],\n",
       "       [0.42088051],\n",
       "       [0.43513405],\n",
       "       [0.44300126],\n",
       "       [0.42455188],\n",
       "       [0.41745596],\n",
       "       [0.46549224],\n",
       "       [0.43263505],\n",
       "       [0.44762904],\n",
       "       [0.51359023],\n",
       "       [0.88600253],\n",
       "       [0.34501589],\n",
       "       [0.38049548],\n",
       "       [0.47206368],\n",
       "       [0.4427853 ],\n",
       "       [0.48529911],\n",
       "       [0.4487397 ],\n",
       "       [0.43621386],\n",
       "       [0.49689939],\n",
       "       [0.43257335],\n",
       "       [0.45876654],\n",
       "       [0.54934748],\n",
       "       [0.86048808],\n",
       "       [0.35260544],\n",
       "       [0.40514608],\n",
       "       [0.46357943],\n",
       "       [0.44300126],\n",
       "       [0.50411872],\n",
       "       [0.44003949],\n",
       "       [0.45120785],\n",
       "       [0.50279209],\n",
       "       [0.40533119],\n",
       "       [0.43352976],\n",
       "       [0.49399932],\n",
       "       [0.73988832],\n",
       "       [0.32835591],\n",
       "       [0.36837072],\n",
       "       [0.39548946],\n",
       "       [0.41936877],\n",
       "       [0.44796841],\n",
       "       [0.39150958],\n",
       "       [0.40918767],\n",
       "       [0.46006232],\n",
       "       [0.39755654],\n",
       "       [0.44145867],\n",
       "       [0.48091815],\n",
       "       [0.75229075],\n",
       "       [0.32308025],\n",
       "       [0.37244316],\n",
       "       [0.45185574],\n",
       "       [0.4411193 ],\n",
       "       [0.4622528 ],\n",
       "       [0.41322926],\n",
       "       [0.43494894],\n",
       "       [0.46829976],\n",
       "       [0.41612933],\n",
       "       [0.45253448],\n",
       "       [0.53247154],\n",
       "       [0.79600777],\n",
       "       [0.33810508],\n",
       "       [0.40684293],\n",
       "       [0.47845   ],\n",
       "       [0.49063647],\n",
       "       [0.4944621 ],\n",
       "       [0.4639805 ],\n",
       "       [0.46873168],\n",
       "       [0.50964119],\n",
       "       [0.47064449],\n",
       "       [0.47854256],\n",
       "       [0.56190417],\n",
       "       [0.87508099],\n",
       "       [0.35831302],\n",
       "       [0.46854657],\n",
       "       [0.53737698],\n",
       "       [0.48921729],\n",
       "       [0.5308981 ],\n",
       "       [0.4927961 ],\n",
       "       [0.47888193],\n",
       "       [0.55551785],\n",
       "       [0.48273841],\n",
       "       [0.49674513],\n",
       "       [0.59457625],\n",
       "       [0.88729831],\n",
       "       [0.38321044],\n",
       "       [0.4520717 ],\n",
       "       [0.55061241],\n",
       "       [0.50751242],\n",
       "       [0.55715299],\n",
       "       [0.5004165 ],\n",
       "       [0.50775923],\n",
       "       [0.58146423],\n",
       "       [0.47487119],\n",
       "       [0.52880017],\n",
       "       [0.60864468],\n",
       "       [0.89167926],\n",
       "       [0.38490729],\n",
       "       [0.45685373],\n",
       "       [0.5360195 ],\n",
       "       [0.54379416],\n",
       "       [0.58254404],\n",
       "       [0.50171228],\n",
       "       [0.52883102],\n",
       "       [0.59577947],\n",
       "       [0.4920248 ],\n",
       "       [0.54061642],\n",
       "       [0.64193379],\n",
       "       [0.92604819],\n",
       "       [0.40403542],\n",
       "       [0.47311264],\n",
       "       [0.55764662],\n",
       "       [0.54687934],\n",
       "       [0.60145621],\n",
       "       [0.52491284],\n",
       "       [0.55308055],\n",
       "       [0.60716379],\n",
       "       [0.50871564],\n",
       "       [0.55551785],\n",
       "       [0.62869836],\n",
       "       [0.94952642],\n",
       "       [0.40135131],\n",
       "       [0.50186654],\n",
       "       [0.58035356],\n",
       "       [0.54758893],\n",
       "       [0.58643137],\n",
       "       [0.54012279],\n",
       "       [0.55579551],\n",
       "       [0.60886064],\n",
       "       [0.52941721],\n",
       "       [0.55169222],\n",
       "       [0.64961589],\n",
       "       [0.98972634],\n",
       "       [0.40610249],\n",
       "       [0.47129238],\n",
       "       [0.57347361],\n",
       "       [0.56764261],\n",
       "       [0.59238577],\n",
       "       [0.55144541],\n",
       "       [0.55690618],\n",
       "       [0.61799278],\n",
       "       [0.52957147],\n",
       "       [0.54684849],\n",
       "       [0.67306328],\n",
       "       [0.96192886],\n",
       "       [0.40218431],\n",
       "       [0.48375652],\n",
       "       [0.60046895],\n",
       "       [0.54666338],\n",
       "       [0.64221146],\n",
       "       [0.57230124],\n",
       "       [0.58584519],\n",
       "       [0.62866751],\n",
       "       [0.52565329],\n",
       "       [0.56949372],\n",
       "       [0.69786814],\n",
       "       [0.96276185],\n",
       "       [0.41375374],\n",
       "       [0.46947213],\n",
       "       [0.59590288],\n",
       "       [0.57865671],\n",
       "       [0.62737173],\n",
       "       [0.56680961],\n",
       "       [0.58612285],\n",
       "       [0.6505106 ],\n",
       "       [0.51902015],\n",
       "       [0.57557153],\n",
       "       [0.69188289],\n",
       "       [1.        ],\n",
       "       [0.43590535],\n",
       "       [0.50868479],\n",
       "       [0.25375621],\n",
       "       [0.        ],\n",
       "       [0.18643754],\n",
       "       [0.42260821],\n",
       "       [0.46385709]])"
      ]
     },
     "execution_count": 27,
     "metadata": {},
     "output_type": "execute_result"
    }
   ],
   "source": [
    "scaled_train"
   ]
  },
  {
   "cell_type": "code",
   "execution_count": 29,
   "id": "3cd82782",
   "metadata": {},
   "outputs": [],
   "source": [
    "from tensorflow.keras.models import Sequential\n",
    "from tensorflow.keras.layers import Dense\n",
    "from tensorflow.keras.layers import LSTM"
   ]
  },
  {
   "cell_type": "code",
   "execution_count": 30,
   "id": "a8498790",
   "metadata": {},
   "outputs": [],
   "source": [
    "n_features = 1"
   ]
  },
  {
   "cell_type": "code",
   "execution_count": 31,
   "id": "8238f30b",
   "metadata": {},
   "outputs": [],
   "source": [
    "model = Sequential()\n",
    "model.add(LSTM(100, activation='relu', input_shape=(length, n_features)))\n",
    "model.add(Dense(1))\n",
    "model.compile(optimizer='adam', loss='mse')"
   ]
  },
  {
   "cell_type": "code",
   "execution_count": 32,
   "id": "52df1679",
   "metadata": {},
   "outputs": [
    {
     "name": "stdout",
     "output_type": "stream",
     "text": [
      "Model: \"sequential\"\n",
      "_________________________________________________________________\n",
      " Layer (type)                Output Shape              Param #   \n",
      "=================================================================\n",
      " lstm (LSTM)                 (None, 100)               40800     \n",
      "                                                                 \n",
      " dense (Dense)               (None, 1)                 101       \n",
      "                                                                 \n",
      "=================================================================\n",
      "Total params: 40,901\n",
      "Trainable params: 40,901\n",
      "Non-trainable params: 0\n",
      "_________________________________________________________________\n"
     ]
    }
   ],
   "source": [
    "model.summary()"
   ]
  },
  {
   "cell_type": "code",
   "execution_count": 48,
   "id": "b25097d7",
   "metadata": {},
   "outputs": [],
   "source": [
    "from tensorflow.keras.callbacks import EarlyStopping"
   ]
  },
  {
   "cell_type": "code",
   "execution_count": 49,
   "id": "4937142a",
   "metadata": {},
   "outputs": [],
   "source": [
    "early_stop = EarlyStopping(monitor='val_loss',patience=2)"
   ]
  },
  {
   "cell_type": "code",
   "execution_count": 50,
   "id": "2c01c3af",
   "metadata": {},
   "outputs": [],
   "source": [
    "validation_generator = TimeseriesGenerator(scaled_test,scaled_test, length=length, batch_size=1)"
   ]
  },
  {
   "cell_type": "code",
   "execution_count": 53,
   "id": "eb908714",
   "metadata": {},
   "outputs": [
    {
     "name": "stdout",
     "output_type": "stream",
     "text": [
      "Epoch 1/20\n",
      " 10/331 [..............................] - ETA: 1s - loss: 0.0047    "
     ]
    },
    {
     "name": "stderr",
     "output_type": "stream",
     "text": [
      "C:\\Users\\ADITYA~1\\AppData\\Local\\Temp/ipykernel_25556/3502985036.py:1: UserWarning: `Model.fit_generator` is deprecated and will be removed in a future version. Please use `Model.fit`, which supports generators.\n",
      "  model.fit_generator(generator,epochs=20,\n"
     ]
    },
    {
     "name": "stdout",
     "output_type": "stream",
     "text": [
      "331/331 [==============================] - 2s 6ms/step - loss: 0.0028 - val_loss: 0.0341\n",
      "Epoch 2/20\n",
      "331/331 [==============================] - 2s 6ms/step - loss: 0.0028 - val_loss: 0.0687\n",
      "Epoch 3/20\n",
      "331/331 [==============================] - 2s 6ms/step - loss: 0.0026 - val_loss: 0.0281\n",
      "Epoch 4/20\n",
      "331/331 [==============================] - 2s 6ms/step - loss: 0.0025 - val_loss: 0.0320\n",
      "Epoch 5/20\n",
      "331/331 [==============================] - 2s 6ms/step - loss: 0.0024 - val_loss: 0.0247\n",
      "Epoch 6/20\n",
      "331/331 [==============================] - 2s 6ms/step - loss: 0.0024 - val_loss: 0.0283\n",
      "Epoch 7/20\n",
      "331/331 [==============================] - 2s 6ms/step - loss: 0.0022 - val_loss: 0.0348\n"
     ]
    },
    {
     "data": {
      "text/plain": [
       "<keras.callbacks.History at 0x2d83988f2b0>"
      ]
     },
     "execution_count": 53,
     "metadata": {},
     "output_type": "execute_result"
    }
   ],
   "source": [
    "model.fit_generator(generator,epochs=20,\n",
    "                    validation_data=validation_generator,\n",
    "                   callbacks=[early_stop])"
   ]
  },
  {
   "cell_type": "code",
   "execution_count": 54,
   "id": "1cead810",
   "metadata": {},
   "outputs": [],
   "source": [
    "losses = pd.DataFrame(model.history.history)"
   ]
  },
  {
   "cell_type": "code",
   "execution_count": 55,
   "id": "4ed50712",
   "metadata": {},
   "outputs": [
    {
     "data": {
      "text/plain": [
       "<AxesSubplot:>"
      ]
     },
     "execution_count": 55,
     "metadata": {},
     "output_type": "execute_result"
    },
    {
     "data": {
      "image/png": "[encoded data removed]",
      "text/plain": [
       "<Figure size 432x288 with 1 Axes>"
      ]
     },
     "metadata": {
      "needs_background": "light"
     },
     "output_type": "display_data"
    }
   ],
   "source": [
    "losses.plot()"
   ]
  },
  {
   "cell_type": "code",
   "execution_count": 56,
   "id": "336a444a",
   "metadata": {},
   "outputs": [],
   "source": [
    "test_predictions = []\n",
    "\n",
    "first_eval_batch = scaled_train[-length:]\n",
    "current_batch = first_eval_batch.reshape((1, length, n_features))\n",
    "\n",
    "for i in range(len(test)):\n",
    "    \n",
    "    # get prediction 1 time stamp ahead ([0] is for grabbing just the number instead of [array])\n",
    "    current_pred = model.predict(current_batch)[0]\n",
    "    \n",
    "    # store prediction\n",
    "    test_predictions.append(current_pred) \n",
    "    \n",
    "    # update batch to now include prediction and drop first value\n",
    "    current_batch = np.append(current_batch[:,1:,:],[[current_pred]],axis=1)"
   ]
  },
  {
   "cell_type": "code",
   "execution_count": 57,
   "id": "12a011c4",
   "metadata": {},
   "outputs": [],
   "source": [
    "true_predictions=scalar.inverse_transform(test_predictions)"
   ]
  },
  {
   "cell_type": "code",
   "execution_count": 58,
   "id": "3cda101c",
   "metadata": {},
   "outputs": [
    {
     "name": "stderr",
     "output_type": "stream",
     "text": [
      "C:\\Users\\ADITYA~1\\AppData\\Local\\Temp/ipykernel_25556/4217253912.py:1: SettingWithCopyWarning: \n",
      "A value is trying to be set on a copy of a slice from a DataFrame.\n",
      "Try using .loc[row_indexer,col_indexer] = value instead\n",
      "\n",
      "See the caveats in the documentation: https://pandas.pydata.org/pandas-docs/stable/user_guide/indexing.html#returning-a-view-versus-a-copy\n",
      "  test['Predictions'] =true_predictions\n"
     ]
    }
   ],
   "source": [
    "test['Predictions'] =true_predictions"
   ]
  },
  {
   "cell_type": "code",
   "execution_count": 59,
   "id": "c6bd6f88",
   "metadata": {},
   "outputs": [
    {
     "data": {
      "text/html": [
       "<div>\n",
       "<style scoped>\n",
       "    .dataframe tbody tr th:only-of-type {\n",
       "        vertical-align: middle;\n",
       "    }\n",
       "\n",
       "    .dataframe tbody tr th {\n",
       "        vertical-align: top;\n",
       "    }\n",
       "\n",
       "    .dataframe thead th {\n",
       "        text-align: right;\n",
       "    }\n",
       "</style>\n",
       "<table border=\"1\" class=\"dataframe\">\n",
       "  <thead>\n",
       "    <tr style=\"text-align: right;\">\n",
       "      <th></th>\n",
       "      <th>Sales</th>\n",
       "      <th>Predictions</th>\n",
       "    </tr>\n",
       "    <tr>\n",
       "      <th>DATE</th>\n",
       "      <th></th>\n",
       "      <th></th>\n",
       "    </tr>\n",
       "  </thead>\n",
       "  <tbody>\n",
       "    <tr>\n",
       "      <th>2020-08-01</th>\n",
       "      <td>18968</td>\n",
       "      <td>22781.867426</td>\n",
       "    </tr>\n",
       "    <tr>\n",
       "      <th>2020-09-01</th>\n",
       "      <td>18790</td>\n",
       "      <td>21643.653904</td>\n",
       "    </tr>\n",
       "    <tr>\n",
       "      <th>2020-10-01</th>\n",
       "      <td>20088</td>\n",
       "      <td>23485.854349</td>\n",
       "    </tr>\n",
       "    <tr>\n",
       "      <th>2020-11-01</th>\n",
       "      <td>21287</td>\n",
       "      <td>27509.019567</td>\n",
       "    </tr>\n",
       "    <tr>\n",
       "      <th>2020-12-01</th>\n",
       "      <td>32237</td>\n",
       "      <td>37270.759427</td>\n",
       "    </tr>\n",
       "    <tr>\n",
       "      <th>2021-01-01</th>\n",
       "      <td>15740</td>\n",
       "      <td>18501.780762</td>\n",
       "    </tr>\n",
       "    <tr>\n",
       "      <th>2021-02-01</th>\n",
       "      <td>16568</td>\n",
       "      <td>19037.909840</td>\n",
       "    </tr>\n",
       "    <tr>\n",
       "      <th>2021-03-01</th>\n",
       "      <td>24171</td>\n",
       "      <td>13000.348105</td>\n",
       "    </tr>\n",
       "    <tr>\n",
       "      <th>2021-04-01</th>\n",
       "      <td>23599</td>\n",
       "      <td>11498.883559</td>\n",
       "    </tr>\n",
       "    <tr>\n",
       "      <th>2021-05-01</th>\n",
       "      <td>26503</td>\n",
       "      <td>11373.661293</td>\n",
       "    </tr>\n",
       "    <tr>\n",
       "      <th>2021-06-01</th>\n",
       "      <td>25301</td>\n",
       "      <td>13990.305505</td>\n",
       "    </tr>\n",
       "    <tr>\n",
       "      <th>2021-07-01</th>\n",
       "      <td>25874</td>\n",
       "      <td>15969.925679</td>\n",
       "    </tr>\n",
       "    <tr>\n",
       "      <th>2021-08-01</th>\n",
       "      <td>25745</td>\n",
       "      <td>20547.707919</td>\n",
       "    </tr>\n",
       "    <tr>\n",
       "      <th>2021-09-01</th>\n",
       "      <td>23306</td>\n",
       "      <td>22186.008741</td>\n",
       "    </tr>\n",
       "    <tr>\n",
       "      <th>2021-10-01</th>\n",
       "      <td>25080</td>\n",
       "      <td>24952.644946</td>\n",
       "    </tr>\n",
       "    <tr>\n",
       "      <th>2021-11-01</th>\n",
       "      <td>29679</td>\n",
       "      <td>29904.187135</td>\n",
       "    </tr>\n",
       "    <tr>\n",
       "      <th>2021-12-01</th>\n",
       "      <td>40977</td>\n",
       "      <td>40168.900650</td>\n",
       "    </tr>\n",
       "    <tr>\n",
       "      <th>2022-01-01</th>\n",
       "      <td>18936</td>\n",
       "      <td>20460.180229</td>\n",
       "    </tr>\n",
       "  </tbody>\n",
       "</table>\n",
       "</div>"
      ],
      "text/plain": [
       "            Sales   Predictions\n",
       "DATE                           \n",
       "2020-08-01  18968  22781.867426\n",
       "2020-09-01  18790  21643.653904\n",
       "2020-10-01  20088  23485.854349\n",
       "2020-11-01  21287  27509.019567\n",
       "2020-12-01  32237  37270.759427\n",
       "2021-01-01  15740  18501.780762\n",
       "2021-02-01  16568  19037.909840\n",
       "2021-03-01  24171  13000.348105\n",
       "2021-04-01  23599  11498.883559\n",
       "2021-05-01  26503  11373.661293\n",
       "2021-06-01  25301  13990.305505\n",
       "2021-07-01  25874  15969.925679\n",
       "2021-08-01  25745  20547.707919\n",
       "2021-09-01  23306  22186.008741\n",
       "2021-10-01  25080  24952.644946\n",
       "2021-11-01  29679  29904.187135\n",
       "2021-12-01  40977  40168.900650\n",
       "2022-01-01  18936  20460.180229"
      ]
     },
     "execution_count": 59,
     "metadata": {},
     "output_type": "execute_result"
    }
   ],
   "source": [
    "test"
   ]
  },
  {
   "cell_type": "code",
   "execution_count": 60,
   "id": "bab24c9b",
   "metadata": {},
   "outputs": [
    {
     "data": {
      "text/plain": [
       "<AxesSubplot:xlabel='DATE'>"
      ]
     },
     "execution_count": 60,
     "metadata": {},
     "output_type": "execute_result"
    },
    {
     "data": {
      "image/png": "[encoded data removed]",
      "text/plain": [
       "<Figure size 432x288 with 1 Axes>"
      ]
     },
     "metadata": {
      "needs_background": "light"
     },
     "output_type": "display_data"
    }
   ],
   "source": [
    "test.plot()"
   ]
  },
  {
   "cell_type": "code",
   "execution_count": 61,
   "id": "e21b5fda",
   "metadata": {},
   "outputs": [],
   "source": [
    "full_scaler = MinMaxScaler()\n",
    "scaled_full_data = full_scaler.fit_transform(df)"
   ]
  },
  {
   "cell_type": "code",
   "execution_count": 62,
   "id": "7c53c118",
   "metadata": {},
   "outputs": [],
   "source": [
    "length = 12\n",
    "generator = TimeseriesGenerator(scaled_full_data,scaled_full_data,length=length,batch_size=1)"
   ]
  },
  {
   "cell_type": "code",
   "execution_count": 63,
   "id": "b1ff3194",
   "metadata": {},
   "outputs": [
    {
     "name": "stdout",
     "output_type": "stream",
     "text": [
      "Epoch 1/8\n"
     ]
    },
    {
     "name": "stderr",
     "output_type": "stream",
     "text": [
      "C:\\Users\\ADITYA~1\\AppData\\Local\\Temp/ipykernel_25556/2403673229.py:8: UserWarning: `Model.fit_generator` is deprecated and will be removed in a future version. Please use `Model.fit`, which supports generators.\n",
      "  model.fit_generator(generator,epochs=8)\n"
     ]
    },
    {
     "name": "stdout",
     "output_type": "stream",
     "text": [
      "349/349 [==============================] - 5s 11ms/step - loss: 0.0180\n",
      "Epoch 2/8\n",
      "349/349 [==============================] - 3s 9ms/step - loss: 0.0127\n",
      "Epoch 3/8\n",
      "349/349 [==============================] - 4s 10ms/step - loss: 0.0102\n",
      "Epoch 4/8\n",
      "349/349 [==============================] - 3s 10ms/step - loss: 0.0067\n",
      "Epoch 5/8\n",
      "349/349 [==============================] - 4s 10ms/step - loss: 0.0063\n",
      "Epoch 6/8\n",
      "349/349 [==============================] - 4s 12ms/step - loss: 0.0049\n",
      "Epoch 7/8\n",
      "349/349 [==============================] - 3s 9ms/step - loss: 0.0046\n",
      "Epoch 8/8\n",
      "349/349 [==============================] - 3s 8ms/step - loss: 0.0048\n"
     ]
    },
    {
     "data": {
      "text/plain": [
       "<keras.callbacks.History at 0x2d83844f0a0>"
      ]
     },
     "execution_count": 63,
     "metadata": {},
     "output_type": "execute_result"
    }
   ],
   "source": [
    "model = Sequential()\n",
    "model.add(LSTM(100, activation='relu', input_shape=(length, n_features)))\n",
    "model.add(Dense(1))\n",
    "model.compile(optimizer='adam', loss='mse')\n",
    "\n",
    "\n",
    "# fit model\n",
    "model.fit_generator(generator,epochs=8)\n"
   ]
  },
  {
   "cell_type": "code",
   "execution_count": 64,
   "id": "c6637ae9",
   "metadata": {},
   "outputs": [],
   "source": [
    "forecast = []\n",
    "# Replace periods with whatever forecast length you want\n",
    "periods = 12\n",
    "\n",
    "first_eval_batch = scaled_full_data[-length:]\n",
    "current_batch = first_eval_batch.reshape((1, length, n_features))\n",
    "\n",
    "for i in range(periods):\n",
    "    \n",
    "    # get prediction 1 time stamp ahead ([0] is for grabbing just the number instead of [array])\n",
    "    current_pred = model.predict(current_batch)[0]\n",
    "    \n",
    "    # store prediction\n",
    "    forecast.append(current_pred) \n",
    "    \n",
    "    # update batch to now include prediction and drop first value\n",
    "    current_batch = np.append(current_batch[:,1:,:],[[current_pred]],axis=1)"
   ]
  },
  {
   "cell_type": "code",
   "execution_count": 66,
   "id": "e461d773",
   "metadata": {},
   "outputs": [],
   "source": [
    "forecast = scalar.inverse_transform(forecast)"
   ]
  },
  {
   "cell_type": "code",
   "execution_count": 67,
   "id": "5c2c31fa",
   "metadata": {},
   "outputs": [
    {
     "data": {
      "text/html": [
       "<div>\n",
       "<style scoped>\n",
       "    .dataframe tbody tr th:only-of-type {\n",
       "        vertical-align: middle;\n",
       "    }\n",
       "\n",
       "    .dataframe tbody tr th {\n",
       "        vertical-align: top;\n",
       "    }\n",
       "\n",
       "    .dataframe thead th {\n",
       "        text-align: right;\n",
       "    }\n",
       "</style>\n",
       "<table border=\"1\" class=\"dataframe\">\n",
       "  <thead>\n",
       "    <tr style=\"text-align: right;\">\n",
       "      <th></th>\n",
       "      <th>Sales</th>\n",
       "    </tr>\n",
       "    <tr>\n",
       "      <th>DATE</th>\n",
       "      <th></th>\n",
       "    </tr>\n",
       "  </thead>\n",
       "  <tbody>\n",
       "    <tr>\n",
       "      <th>1992-01-01</th>\n",
       "      <td>6938</td>\n",
       "    </tr>\n",
       "    <tr>\n",
       "      <th>1992-02-01</th>\n",
       "      <td>7524</td>\n",
       "    </tr>\n",
       "    <tr>\n",
       "      <th>1992-03-01</th>\n",
       "      <td>8475</td>\n",
       "    </tr>\n",
       "    <tr>\n",
       "      <th>1992-04-01</th>\n",
       "      <td>9401</td>\n",
       "    </tr>\n",
       "    <tr>\n",
       "      <th>1992-05-01</th>\n",
       "      <td>9558</td>\n",
       "    </tr>\n",
       "    <tr>\n",
       "      <th>...</th>\n",
       "      <td>...</td>\n",
       "    </tr>\n",
       "    <tr>\n",
       "      <th>2021-09-01</th>\n",
       "      <td>23306</td>\n",
       "    </tr>\n",
       "    <tr>\n",
       "      <th>2021-10-01</th>\n",
       "      <td>25080</td>\n",
       "    </tr>\n",
       "    <tr>\n",
       "      <th>2021-11-01</th>\n",
       "      <td>29679</td>\n",
       "    </tr>\n",
       "    <tr>\n",
       "      <th>2021-12-01</th>\n",
       "      <td>40977</td>\n",
       "    </tr>\n",
       "    <tr>\n",
       "      <th>2022-01-01</th>\n",
       "      <td>18936</td>\n",
       "    </tr>\n",
       "  </tbody>\n",
       "</table>\n",
       "<p>361 rows × 1 columns</p>\n",
       "</div>"
      ],
      "text/plain": [
       "            Sales\n",
       "DATE             \n",
       "1992-01-01   6938\n",
       "1992-02-01   7524\n",
       "1992-03-01   8475\n",
       "1992-04-01   9401\n",
       "1992-05-01   9558\n",
       "...           ...\n",
       "2021-09-01  23306\n",
       "2021-10-01  25080\n",
       "2021-11-01  29679\n",
       "2021-12-01  40977\n",
       "2022-01-01  18936\n",
       "\n",
       "[361 rows x 1 columns]"
      ]
     },
     "execution_count": 67,
     "metadata": {},
     "output_type": "execute_result"
    }
   ],
   "source": [
    "df"
   ]
  },
  {
   "cell_type": "code",
   "execution_count": 68,
   "id": "e4c25e81",
   "metadata": {},
   "outputs": [
    {
     "data": {
      "text/plain": [
       "array([[17188.89921749],\n",
       "       [20761.56102747],\n",
       "       [20907.69295466],\n",
       "       [23163.12340057],\n",
       "       [22660.2927106 ],\n",
       "       [23158.98319882],\n",
       "       [23088.31383824],\n",
       "       [21371.21587759],\n",
       "       [22510.93440127],\n",
       "       [26802.95964581],\n",
       "       [40495.20573378],\n",
       "       [18335.77277485]])"
      ]
     },
     "execution_count": 68,
     "metadata": {},
     "output_type": "execute_result"
    }
   ],
   "source": [
    "forecast"
   ]
  },
  {
   "cell_type": "code",
   "execution_count": 69,
   "id": "6c3f0ed5",
   "metadata": {},
   "outputs": [],
   "source": [
    "forecast_index = pd.date_range(start='2019-11-01',periods=periods,freq='MS')"
   ]
  },
  {
   "cell_type": "code",
   "execution_count": 70,
   "id": "b8ba1958",
   "metadata": {},
   "outputs": [],
   "source": [
    "forecast_df = pd.DataFrame(data=forecast,index=forecast_index,\n",
    "                           columns=['Forecast'])"
   ]
  },
  {
   "cell_type": "code",
   "execution_count": 71,
   "id": "3eda3d3b",
   "metadata": {},
   "outputs": [
    {
     "data": {
      "text/html": [
       "<div>\n",
       "<style scoped>\n",
       "    .dataframe tbody tr th:only-of-type {\n",
       "        vertical-align: middle;\n",
       "    }\n",
       "\n",
       "    .dataframe tbody tr th {\n",
       "        vertical-align: top;\n",
       "    }\n",
       "\n",
       "    .dataframe thead th {\n",
       "        text-align: right;\n",
       "    }\n",
       "</style>\n",
       "<table border=\"1\" class=\"dataframe\">\n",
       "  <thead>\n",
       "    <tr style=\"text-align: right;\">\n",
       "      <th></th>\n",
       "      <th>Forecast</th>\n",
       "    </tr>\n",
       "  </thead>\n",
       "  <tbody>\n",
       "    <tr>\n",
       "      <th>2019-11-01</th>\n",
       "      <td>17188.899217</td>\n",
       "    </tr>\n",
       "    <tr>\n",
       "      <th>2019-12-01</th>\n",
       "      <td>20761.561027</td>\n",
       "    </tr>\n",
       "    <tr>\n",
       "      <th>2020-01-01</th>\n",
       "      <td>20907.692955</td>\n",
       "    </tr>\n",
       "    <tr>\n",
       "      <th>2020-02-01</th>\n",
       "      <td>23163.123401</td>\n",
       "    </tr>\n",
       "    <tr>\n",
       "      <th>2020-03-01</th>\n",
       "      <td>22660.292711</td>\n",
       "    </tr>\n",
       "    <tr>\n",
       "      <th>2020-04-01</th>\n",
       "      <td>23158.983199</td>\n",
       "    </tr>\n",
       "    <tr>\n",
       "      <th>2020-05-01</th>\n",
       "      <td>23088.313838</td>\n",
       "    </tr>\n",
       "    <tr>\n",
       "      <th>2020-06-01</th>\n",
       "      <td>21371.215878</td>\n",
       "    </tr>\n",
       "    <tr>\n",
       "      <th>2020-07-01</th>\n",
       "      <td>22510.934401</td>\n",
       "    </tr>\n",
       "    <tr>\n",
       "      <th>2020-08-01</th>\n",
       "      <td>26802.959646</td>\n",
       "    </tr>\n",
       "    <tr>\n",
       "      <th>2020-09-01</th>\n",
       "      <td>40495.205734</td>\n",
       "    </tr>\n",
       "    <tr>\n",
       "      <th>2020-10-01</th>\n",
       "      <td>18335.772775</td>\n",
       "    </tr>\n",
       "  </tbody>\n",
       "</table>\n",
       "</div>"
      ],
      "text/plain": [
       "                Forecast\n",
       "2019-11-01  17188.899217\n",
       "2019-12-01  20761.561027\n",
       "2020-01-01  20907.692955\n",
       "2020-02-01  23163.123401\n",
       "2020-03-01  22660.292711\n",
       "2020-04-01  23158.983199\n",
       "2020-05-01  23088.313838\n",
       "2020-06-01  21371.215878\n",
       "2020-07-01  22510.934401\n",
       "2020-08-01  26802.959646\n",
       "2020-09-01  40495.205734\n",
       "2020-10-01  18335.772775"
      ]
     },
     "execution_count": 71,
     "metadata": {},
     "output_type": "execute_result"
    }
   ],
   "source": [
    "forecast_df"
   ]
  },
  {
   "cell_type": "code",
   "execution_count": 72,
   "id": "38eae118",
   "metadata": {},
   "outputs": [
    {
     "data": {
      "text/plain": [
       "<AxesSubplot:>"
      ]
     },
     "execution_count": 72,
     "metadata": {},
     "output_type": "execute_result"
    },
    {
     "data": {
      "image/png": "[encoded data removed]",
      "text/plain": [
       "<Figure size 432x288 with 1 Axes>"
      ]
     },
     "metadata": {
      "needs_background": "light"
     },
     "output_type": "display_data"
    },
    {
     "data": {
      "image/png": "[encoded data removed]",
      "text/plain": [
       "<Figure size 432x288 with 1 Axes>"
      ]
     },
     "metadata": {
      "needs_background": "light"
     },
     "output_type": "display_data"
    }
   ],
   "source": [
    "df.plot()\n",
    "forecast_df.plot()"
   ]
  },
  {
   "cell_type": "code",
   "execution_count": 73,
   "id": "bb2b978c",
   "metadata": {},
   "outputs": [
    {
     "data": {
      "text/plain": [
       "<AxesSubplot:xlabel='DATE'>"
      ]
     },
     "execution_count": 73,
     "metadata": {},
     "output_type": "execute_result"
    },
    {
     "data": {
      "image/png": "[encoded data removed]",
      "text/plain": [
       "<Figure size 432x288 with 1 Axes>"
      ]
     },
     "metadata": {
      "needs_background": "light"
     },
     "output_type": "display_data"
    }
   ],
   "source": [
    "ax = df.plot()\n",
    "forecast_df.plot(ax=ax)"
   ]
  },
  {
   "cell_type": "code",
   "execution_count": 74,
   "id": "c4d2407f",
   "metadata": {},
   "outputs": [
    {
     "data": {
      "text/plain": [
       "(576.0, 611.0)"
      ]
     },
     "execution_count": 74,
     "metadata": {},
     "output_type": "execute_result"
    },
    {
     "data": {
      "image/png": "[encoded data removed]",
      "text/plain": [
       "<Figure size 432x288 with 1 Axes>"
      ]
     },
     "metadata": {
      "needs_background": "light"
     },
     "output_type": "display_data"
    }
   ],
   "source": [
    "ax = df.plot()\n",
    "forecast_df.plot(ax=ax)\n",
    "plt.xlim('2018-01-01','2020-12-01')"
   ]
  },
  {
   "cell_type": "code",
   "execution_count": null,
   "id": "dc0c1d7f",
   "metadata": {},
   "outputs": [],
   "source": []
  }
 ],
 "metadata": {
  "kernelspec": {
   "display_name": "Python 3 (ipykernel)",
   "language": "python",
   "name": "python3"
  },
  "language_info": {
   "codemirror_mode": {
    "name": "ipython",
    "version": 3
   },
   "file_extension": ".py",
   "mimetype": "text/x-python",
   "name": "python",
   "nbconvert_exporter": "python",
   "pygments_lexer": "ipython3",
   "version": "3.9.7"
  }
 },
 "nbformat": 4,
 "nbformat_minor": 5
}
